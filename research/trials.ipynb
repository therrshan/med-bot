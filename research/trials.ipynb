{
 "cells": [
  {
   "cell_type": "code",
   "id": "initial_id",
   "metadata": {
    "collapsed": true,
    "ExecuteTime": {
     "end_time": "2025-03-04T18:24:14.677486Z",
     "start_time": "2025-03-04T18:24:14.592349Z"
    }
   },
   "source": [
    "from langchain.document_loaders import PyPDFLoader, DirectoryLoader\n",
    "from langchain.text_splitter import RecursiveCharacterTextSplitter\n",
    "from langchain.embeddings import HuggingFaceEmbeddings\n",
    "import os\n",
    "from pinecone import Pinecone, ServerlessSpec\n",
    "from langchain_pinecone import PineconeVectorStore\n",
    "from langchain.chains import create_retrieval_chain\n",
    "from langchain.chains.combine_documents import create_stuff_documents_chain\n",
    "from langchain_huggingface import HuggingFaceEndpoint\n",
    "from langchain_core.prompts import ChatPromptTemplate\n",
    "from transformers import pipeline\n",
    "import warnings\n"
   ],
   "outputs": [],
   "execution_count": 78
  },
  {
   "metadata": {
    "ExecuteTime": {
     "end_time": "2025-03-04T17:36:09.290647Z",
     "start_time": "2025-03-04T17:36:09.284453Z"
    }
   },
   "cell_type": "code",
   "source": [
    "from dotenv import load_dotenv\n",
    "load_dotenv()\n",
    "\n",
    "PINECONE_API_KEY = os.environ.get('Pinecone_Key')\n",
    "HF_API_KEY = os.environ.get('HF_Key')\n",
    "\n",
    "os.environ[\"PINECONE_API_KEY\"] = PINECONE_API_KEY\n",
    "os.environ[\"HUGGINGFACEHUB_API_TOKEN\"] = HF_API_KEY\n",
    "\n",
    "\n",
    "# Suppress specific deprecation warning from Hugging Face\n",
    "warnings.filterwarnings(\"ignore\", category=FutureWarning, module=\"huggingface_hub\")\n"
   ],
   "id": "1a3733b7da2922e7",
   "outputs": [],
   "execution_count": 45
  },
  {
   "metadata": {
    "ExecuteTime": {
     "end_time": "2025-03-04T18:44:40.146101Z",
     "start_time": "2025-03-04T18:44:40.131244Z"
    }
   },
   "cell_type": "code",
   "source": [
    "def load_pdf_file(data):\n",
    "    loader= DirectoryLoader(data,\n",
    "                            glob=\"*.pdf\",\n",
    "                            loader_cls=PyPDFLoader)\n",
    "\n",
    "    documents=loader.load()\n",
    "\n",
    "    return documents\n",
    "\n",
    "def text_split(extracted_data):\n",
    "    text_splitter=RecursiveCharacterTextSplitter(chunk_size=500, chunk_overlap=20)\n",
    "    text_chunks=text_splitter.split_documents(extracted_data)\n",
    "    return text_chunks\n"
   ],
   "id": "c66403790ca7a011",
   "outputs": [],
   "execution_count": 88
  },
  {
   "metadata": {
    "ExecuteTime": {
     "end_time": "2025-03-04T18:46:34.109388Z",
     "start_time": "2025-03-04T18:44:45.533624Z"
    }
   },
   "cell_type": "code",
   "source": [
    "data = load_pdf_file(\"../Data\")\n",
    "text_chunks=text_split(data)\n",
    "print(len(text_chunks))"
   ],
   "id": "771c02c477dcb6c5",
   "outputs": [
    {
     "name": "stdout",
     "output_type": "stream",
     "text": [
      "10160\n"
     ]
    }
   ],
   "execution_count": 89
  },
  {
   "metadata": {
    "ExecuteTime": {
     "end_time": "2025-03-04T18:46:43.425544Z",
     "start_time": "2025-03-04T18:46:39.261506Z"
    }
   },
   "cell_type": "code",
   "source": [
    "embeddings=HuggingFaceEmbeddings(model_name='sentence-transformers/all-MiniLM-L6-v2')\n",
    "\n",
    "import os\n",
    "\n",
    "pc = Pinecone(api_key=PINECONE_API_KEY)\n",
    "\n",
    "pc.create_index(\n",
    "    name=\"neu-bot\",\n",
    "    dimension=384, \n",
    "    metric=\"cosine\", \n",
    "    spec=ServerlessSpec(\n",
    "        cloud=\"aws\", \n",
    "        region=\"us-east-1\"\n",
    "    ) \n",
    ") "
   ],
   "id": "ef71f90fbb361023",
   "outputs": [
    {
     "data": {
      "text/plain": [
       "{\n",
       "    \"name\": \"neu-bot\",\n",
       "    \"metric\": \"cosine\",\n",
       "    \"host\": \"neu-bot-e9p6iyz.svc.aped-4627-b74a.pinecone.io\",\n",
       "    \"spec\": {\n",
       "        \"serverless\": {\n",
       "            \"cloud\": \"aws\",\n",
       "            \"region\": \"us-east-1\"\n",
       "        }\n",
       "    },\n",
       "    \"status\": {\n",
       "        \"ready\": true,\n",
       "        \"state\": \"Ready\"\n",
       "    },\n",
       "    \"vector_type\": \"dense\",\n",
       "    \"dimension\": 384,\n",
       "    \"deletion_protection\": \"disabled\",\n",
       "    \"tags\": null\n",
       "}"
      ]
     },
     "execution_count": 90,
     "metadata": {},
     "output_type": "execute_result"
    }
   ],
   "execution_count": 90
  },
  {
   "metadata": {
    "ExecuteTime": {
     "end_time": "2025-03-04T18:52:09.811295Z",
     "start_time": "2025-03-04T18:49:47.016204Z"
    }
   },
   "cell_type": "code",
   "source": [
    "docsearch = PineconeVectorStore.from_documents(\n",
    "    documents=text_chunks,\n",
    "    index_name=\"neu-bot\",\n",
    "    embedding=embeddings, \n",
    ")"
   ],
   "id": "64ca8828f26bb706",
   "outputs": [],
   "execution_count": 93
  },
  {
   "metadata": {
    "ExecuteTime": {
     "end_time": "2025-03-04T18:53:59.065085Z",
     "start_time": "2025-03-04T18:53:59.001469Z"
    }
   },
   "cell_type": "code",
   "source": [
    "retriever = docsearch.as_retriever(search_type=\"similarity\", search_kwargs={\"k\":20})\n",
    "retrieved_docs = retriever.invoke(\"What is course number for Foundations of Artificial Intelligence??\")\n",
    "retrieved_docs"
   ],
   "id": "42ade9a15796df05",
   "outputs": [
    {
     "data": {
      "text/plain": [
       "[Document(id='cba09122-e1c6-4637-8c2d-f037170a71e9', metadata={'author': 'CourseLeaf', 'creationdate': '2024-08-07T11:36:54-04:00', 'creator': 'Adobe Acrobat Pro (32-bit) 24.2.20965', 'moddate': '2025-02-11T21:18:58-05:00', 'page': 763.0, 'page_label': '764', 'producer': 'Adobe Acrobat Pro (32-bit) 24.2.20965', 'source': '..\\\\Data\\\\Northeastern University 2024-2025 Course Descriptions.pdf', 'title': '', 'total_pages': 939.0}, page_content='realize the beneﬁts of AI while responsibly developing and implementing it, it is necessary to identify the ethical issues at stake and work to resolve\\nthem. This course takes up the philosophical and ethical questions essential to this project.\\nPrerequisite(s): PHIL\\xa01145 with a minimum grade of D- or PHIL\\xa01300 with a minimum grade of D- or IS\\xa01300 with a minimum grade of D- or graduate\\nprogram admission'),\n",
       " Document(id='703e7424-efc2-480e-a43c-05f649e1dc9f', metadata={'author': 'CourseLeaf', 'creationdate': '2024-08-07T11:36:54-04:00', 'creator': 'Adobe Acrobat Pro (32-bit) 24.2.20965', 'moddate': '2025-02-11T21:18:58-05:00', 'page': 489.0, 'page_label': '490', 'producer': 'Adobe Acrobat Pro (32-bit) 24.2.20965', 'source': '..\\\\Data\\\\Northeastern University 2024-2025 Course Descriptions.pdf', 'title': '', 'total_pages': 939.0}, page_content='2024-2025 Northeastern University Course Descriptions 489\\nINFO\\xa07374. Special Topics in Information Systems. (1-4 Hours)\\nCovers state-of-the-art material of current interest. May be repeated without limit.\\nINFO\\xa07375. Special Topics in Artiﬁcial Intelligence Engineering and Applications. (1-4 Hours)\\nCovers recent advances in neural nets and deep learning techniques with applications to large-scale engineering problems. May be repeated up to ﬁve\\ntimes for a maximum of 24 semester hours.'),\n",
       " Document(id='107f840c-6001-4391-a2da-8ca0daeac246', metadata={'author': 'CourseLeaf', 'creationdate': '2024-08-07T11:36:54-04:00', 'creator': 'Adobe Acrobat Pro (32-bit) 24.2.20965', 'moddate': '2025-02-11T21:18:58-05:00', 'page': 788.0, 'page_label': '789', 'producer': 'Adobe Acrobat Pro (32-bit) 24.2.20965', 'source': '..\\\\Data\\\\Northeastern University 2024-2025 Course Descriptions.pdf', 'title': '', 'total_pages': 939.0}, page_content='a minimum grade of D- or MATH\\xa01342 (may be taken concurrently) with a minimum grade of D- or MATH\\xa02321 (may be taken concurrently) with a\\nminimum grade of D- )\\nCorequisite(s): PHYS\\xa01192, PHYS\\xa01193\\nAttribute(s): NUpath Formal/Quant Reasoning, NUpath Natural/Designed World\\nPHYS\\xa01192. Lab for PHYS 1191. (1 Hour)\\nAccompanies PHYS\\xa01191. Covers topics from the course through various experiments.\\nCorequisite(s): PHYS\\xa01191, PHYS\\xa01193\\nAttribute(s): NUpath Analyzing/Using Data'),\n",
       " Document(id='a757a4c9-db02-40cd-989d-0d2a58378759', metadata={'author': 'CourseLeaf', 'creationdate': '2024-08-07T11:36:54-04:00', 'creator': 'Adobe Acrobat Pro (32-bit) 24.2.20965', 'moddate': '2025-02-11T21:18:58-05:00', 'page': 192.0, 'page_label': '193', 'producer': 'Adobe Acrobat Pro (32-bit) 24.2.20965', 'source': '..\\\\Data\\\\Northeastern University 2024-2025 Course Descriptions.pdf', 'title': '', 'total_pages': 939.0}, page_content='majors, and nonmajors alike—who wish to explore the intellectual ideas in the discipline.\\nCorequisite(s): CS\\xa02501\\nAttribute(s): NUpath Formal/Quant Reasoning, NUpath Natural/Designed World\\nCS\\xa02501. Lab for CS 2500. (1 Hour)\\nAccompanies CS\\xa02500. Covers topics from the course through various experiments.\\nCorequisite(s): CS\\xa02500\\nCS\\xa02510. Fundamentals of Computer Science 2. (4 Hours)'),\n",
       " Document(id='cf9c897d-31f4-4bc6-be51-a54d79da4418', metadata={'author': 'CourseLeaf', 'creationdate': '2024-08-07T11:36:54-04:00', 'creator': 'Adobe Acrobat Pro (32-bit) 24.2.20965', 'moddate': '2025-02-11T21:18:58-05:00', 'page': 193.0, 'page_label': '194', 'producer': 'Adobe Acrobat Pro (32-bit) 24.2.20965', 'source': '..\\\\Data\\\\Northeastern University 2024-2025 Course Descriptions.pdf', 'title': '', 'total_pages': 939.0}, page_content='Prerequisite(s): ((CS\\xa02510 with a minimum grade of D- or DS\\xa02500 with a minimum grade of D- ); CS\\xa01800 with a minimum grade of D- ) or EECE\\xa02160\\nwith a minimum grade of D-\\nCorequisite(s): CS\\xa03001\\nAttribute(s): NUpath Formal/Quant Reasoning\\nCS\\xa03001. Recitation for CS 3000. (0 Hours)\\nAccompanies CS\\xa03000. Provides students with additional opportunities to ask questions and engage with course material.\\nCorequisite(s): CS\\xa03000\\nCS\\xa03200. Introduction to Databases. (4 Hours)'),\n",
       " Document(id='e330c4fc-f384-46a3-842a-3b9d40e53363', metadata={'author': 'CourseLeaf', 'creationdate': '2024-08-07T11:36:54-04:00', 'creator': 'Adobe Acrobat Pro (32-bit) 24.2.20965', 'moddate': '2025-02-11T21:18:58-05:00', 'page': 789.0, 'page_label': '790', 'producer': 'Adobe Acrobat Pro (32-bit) 24.2.20965', 'source': '..\\\\Data\\\\Northeastern University 2024-2025 Course Descriptions.pdf', 'title': '', 'total_pages': 939.0}, page_content='2024-2025 Northeastern University Course Descriptions 789\\nPHYS\\xa01193. Recitation for PHYS 1191. (0 Hours)\\nAccompanies PHYS\\xa01191. Offers an opportunity for interactive problem solving.\\nCorequisite(s): PHYS\\xa01191, PHYS\\xa01192\\nPHYS\\xa01211. Computational Problem Solving in Physics. (4 Hours)\\nIntroduces students to computational problem-solving techniques with common computer languages used in the physical sciences. Begins with'),\n",
       " Document(id='18a8651f-e704-4be1-ab48-2db5072995f6', metadata={'author': 'CourseLeaf', 'creationdate': '2024-08-07T11:36:54-04:00', 'creator': 'Adobe Acrobat Pro (32-bit) 24.2.20965', 'moddate': '2025-02-11T21:18:58-05:00', 'page': 499.0, 'page_label': '500', 'producer': 'Adobe Acrobat Pro (32-bit) 24.2.20965', 'source': '..\\\\Data\\\\Northeastern University 2024-2025 Course Descriptions.pdf', 'title': '', 'total_pages': 939.0}, page_content='2024-2025 Northeastern University Course Descriptions 499\\nITC\\xa06400. Foundations of Informatics. (3 Hours)\\nIntroduces the fundamental properties of information, technologies, and people within an increasingly complex infrastructure and social system.\\nOffers students an opportunity to learn theoretical foundations and applications of informatics and to explore technical and social issues—including'),\n",
       " Document(id='4e189d32-10a3-445f-9a11-7b47051c9337', metadata={'author': 'CourseLeaf', 'creationdate': '2024-08-07T11:36:54-04:00', 'creator': 'Adobe Acrobat Pro (32-bit) 24.2.20965', 'moddate': '2025-02-11T21:18:58-05:00', 'page': 263.0, 'page_label': '264', 'producer': 'Adobe Acrobat Pro (32-bit) 24.2.20965', 'source': '..\\\\Data\\\\Northeastern University 2024-2025 Course Descriptions.pdf', 'title': '', 'total_pages': 939.0}, page_content='2024-2025 Northeastern University Course Descriptions 263\\nDS\\xa02501. Lab for DS 2500. (1 Hour)\\nPractices the programming techniques discussed in DS\\xa02500 through hands-on experimentation.\\nCorequisite(s): DS\\xa02500\\nDS\\xa02990. Elective. (1-4 Hours)\\nOffers elective credit for courses taken at other academic institutions. May be repeated without limit.\\nDS\\xa02991. Research in Data Science. (1-4 Hours)'),\n",
       " Document(id='60611ed4-cba2-471f-a384-20ddf069d402', metadata={'author': 'CourseLeaf', 'creationdate': '2024-08-07T11:36:54-04:00', 'creator': 'Adobe Acrobat Pro (32-bit) 24.2.20965', 'moddate': '2025-02-11T21:18:58-05:00', 'page': 335.0, 'page_label': '336', 'producer': 'Adobe Acrobat Pro (32-bit) 24.2.20965', 'source': '..\\\\Data\\\\Northeastern University 2024-2025 Course Descriptions.pdf', 'title': '', 'total_pages': 939.0}, page_content='presentations on the design proposal. This is the ﬁrst of a two-course sequence.\\nPrerequisite(s): EECE\\xa02322 with a minimum grade of D- or EECE\\xa02412 with a minimum grade of D- or EECE\\xa02520 with a minimum grade of D- or\\nEECE\\xa02530 with a minimum grade of D- or EECE\\xa02540 with a minimum grade of D- or EECE\\xa02560 with a minimum grade of D- or CS\\xa03000 with a\\nminimum grade of D-\\nAttribute(s): NUpath Capstone Experience, NUpath Creative Express/Innov, NUpath Writing Intensive'),\n",
       " Document(id='9a0816c2-b893-43c5-b9bd-0f30a1ac1a78', metadata={'author': 'CourseLeaf', 'creationdate': '2024-08-07T11:36:54-04:00', 'creator': 'Adobe Acrobat Pro (32-bit) 24.2.20965', 'moddate': '2025-02-11T21:18:58-05:00', 'page': 199.0, 'page_label': '200', 'producer': 'Adobe Acrobat Pro (32-bit) 24.2.20965', 'source': '..\\\\Data\\\\Northeastern University 2024-2025 Course Descriptions.pdf', 'title': '', 'total_pages': 939.0}, page_content='2024-2025 Northeastern University Course Descriptions 199\\nCS\\xa04971. Junior/Senior Honors Project 2. (4 Hours)\\nFocuses on second semester of in-depth project in which a student conducts research or produces a product related to the student’s major ﬁeld.\\nPrerequisite(s): CS\\xa04970 with a minimum grade of D-\\nCS\\xa04973. Topics in Computer Science. (4 Hours)\\nOffers a lecture course in computer science on a topic not regularly taught in a formal course. Topics may vary from offering to offering. May be'),\n",
       " Document(id='998ec0e2-06f5-458c-8f56-bd2025fc19c0', metadata={'author': 'CourseLeaf', 'creationdate': '2024-08-07T11:36:54-04:00', 'creator': 'Adobe Acrobat Pro (32-bit) 24.2.20965', 'moddate': '2025-02-11T21:18:58-05:00', 'page': 603.0, 'page_label': '604', 'producer': 'Adobe Acrobat Pro (32-bit) 24.2.20965', 'source': '..\\\\Data\\\\Northeastern University 2024-2025 Course Descriptions.pdf', 'title': '', 'total_pages': 939.0}, page_content=\"Prerequisite(s): LS\\xa06101 with a minimum grade of C- or LS\\xa06102 with a minimum grade of C-\\nLS\\xa06238. Regulating Artiﬁcial Intelligence. (3 Hours)\\nExamines the regulatory landscape of artiﬁcial intelligence technologies on a global scale by exposing students to the legal, ethical, and policy\\nchallenges posed by AI's rapid advancement. Uses readings, case studies, debates, and interactive discussions to offer students an opportunity to\"),\n",
       " Document(id='87075cd6-046b-4556-bd63-4ba4a10f801c', metadata={'author': 'CourseLeaf', 'creationdate': '2024-08-07T11:36:54-04:00', 'creator': 'Adobe Acrobat Pro (32-bit) 24.2.20965', 'moddate': '2025-02-11T21:18:58-05:00', 'page': 787.0, 'page_label': '788', 'producer': 'Adobe Acrobat Pro (32-bit) 24.2.20965', 'source': '..\\\\Data\\\\Northeastern University 2024-2025 Course Descriptions.pdf', 'title': '', 'total_pages': 939.0}, page_content='Corequisite(s): PHYS\\xa01165, PHYS\\xa01167\\nAttribute(s): NUpath Analyzing/Using Data\\nPHYS\\xa01167. Recitation for PHYS 1165. (0 Hours)\\nAccompanies PHYS\\xa01165. Offers an opportunity for interactive problem solving.\\nCorequisite(s): PHYS\\xa01165, PHYS\\xa01166'),\n",
       " Document(id='e662825d-7833-4cb7-aa3a-a0e5910589b0', metadata={'author': 'CourseLeaf', 'creationdate': '2024-08-07T11:36:54-04:00', 'creator': 'Adobe Acrobat Pro (32-bit) 24.2.20965', 'moddate': '2025-02-11T21:18:58-05:00', 'page': 787.0, 'page_label': '788', 'producer': 'Adobe Acrobat Pro (32-bit) 24.2.20965', 'source': '..\\\\Data\\\\Northeastern University 2024-2025 Course Descriptions.pdf', 'title': '', 'total_pages': 939.0}, page_content='a minimum grade of D- or MATH\\xa01342 (may be taken concurrently) with a minimum grade of D- or MATH\\xa02321 (may be taken concurrently) with a\\nminimum grade of D-\\nCorequisite(s): PHYS\\xa01162, PHYS\\xa01163\\nAttribute(s): NUpath Natural/Designed World\\nPHYS\\xa01162. Lab for PHYS 1161. (1 Hour)\\nAccompanies PHYS\\xa01161. Covers topics from the course through various experiments.\\nCorequisite(s): PHYS\\xa01161, PHYS\\xa01163\\nAttribute(s): NUpath Analyzing/Using Data\\nPHYS\\xa01163. Recitation for PHYS 1161. (0 Hours)'),\n",
       " Document(id='a1f575b3-9b6f-4fe1-a249-5a8b31f88059', metadata={'author': 'CourseLeaf', 'creationdate': '2024-08-07T11:36:54-04:00', 'creator': 'Adobe Acrobat Pro (32-bit) 24.2.20965', 'moddate': '2025-02-11T21:18:58-05:00', 'page': 146.0, 'page_label': '147', 'producer': 'Adobe Acrobat Pro (32-bit) 24.2.20965', 'source': '..\\\\Data\\\\Northeastern University 2024-2025 Course Descriptions.pdf', 'title': '', 'total_pages': 939.0}, page_content='materials.\\nPrerequisite(s): (MATH\\xa01342 with a minimum grade of D- ; (PHYS\\xa01151 (may be taken concurrently) with a minimum grade of D- or PHYS\\xa01161 (may\\nbe taken concurrently) with a minimum grade of D- )) or (PHYS\\xa01141 (may be taken concurrently) with a minimum grade of D- ; MATH\\xa01241 with a\\nminimum grade of D- )\\nCorequisite(s): CIVE\\xa02222\\nCIVE\\xa02222. Recitation for CIVE 2221. (0 Hours)\\nAccompanies CIVE\\xa02221. Covers problem solving and topics related to the course.\\nCorequisite(s): CIVE\\xa02221'),\n",
       " Document(id='f4eb4a05-ae9f-4c07-af5f-8b62babe2e11', metadata={'author': 'CourseLeaf', 'creationdate': '2024-08-07T11:36:54-04:00', 'creator': 'Adobe Acrobat Pro (32-bit) 24.2.20965', 'moddate': '2025-02-11T21:18:58-05:00', 'page': 419.0, 'page_label': '420', 'producer': 'Adobe Acrobat Pro (32-bit) 24.2.20965', 'source': '..\\\\Data\\\\Northeastern University 2024-2025 Course Descriptions.pdf', 'title': '', 'total_pages': 939.0}, page_content='2024-2025 Northeastern University Course Descriptions 419\\nGET\\xa04850. Engineering Technology Capstone Project Execution. (4 Hours)\\nContinues the design process initiated in GET\\xa04840. Students implement the solution to the identiﬁed need/problem that they previously\\nidentiﬁed.This course is the culmination of the engineering technology academic curriculum, where students are expected to apply the knowledge and'),\n",
       " Document(id='25c919c0-a9ab-4a18-aebc-a094d357a3ed', metadata={'author': 'CourseLeaf', 'creationdate': '2024-08-07T11:36:54-04:00', 'creator': 'Adobe Acrobat Pro (32-bit) 24.2.20965', 'moddate': '2025-02-11T21:18:58-05:00', 'page': 192.0, 'page_label': '193', 'producer': 'Adobe Acrobat Pro (32-bit) 24.2.20965', 'source': '..\\\\Data\\\\Northeastern University 2024-2025 Course Descriptions.pdf', 'title': '', 'total_pages': 939.0}, page_content='Corequisite(s): CS\\xa02511\\nAttribute(s): NUpath Analyzing/Using Data, NUpath Natural/Designed World\\nCS\\xa02511. Lab for CS 2510. (1 Hour)\\nAccompanies CS\\xa02510. Covers topics from the course through various experiments.\\nCorequisite(s): CS\\xa02510\\nCS\\xa02800. Logic and Computation. (4 Hours)\\nIntroduces formal logic and its connections to computer and information science. Offers an opportunity to learn to translate statements about the'),\n",
       " Document(id='bb89c7fe-f0e7-4304-a47f-161d23fa306a', metadata={'author': 'CourseLeaf', 'creationdate': '2024-08-07T11:36:54-04:00', 'creator': 'Adobe Acrobat Pro (32-bit) 24.2.20965', 'moddate': '2025-02-11T21:18:58-05:00', 'page': 787.0, 'page_label': '788', 'producer': 'Adobe Acrobat Pro (32-bit) 24.2.20965', 'source': '..\\\\Data\\\\Northeastern University 2024-2025 Course Descriptions.pdf', 'title': '', 'total_pages': 939.0}, page_content='Prerequisite(s): (PHYS\\xa01151 with a minimum grade of D- or PHYS\\xa01161 with a minimum grade of D- or PHYS\\xa01171 with a minimum grade of D- );\\n(MATH\\xa01342 (may be taken concurrently) with a minimum grade of D- or MATH\\xa02321 (may be taken concurrently) with a minimum grade of D- )\\nCorequisite(s): PHYS\\xa01166, PHYS\\xa01167\\nAttribute(s): NUpath Natural/Designed World\\nPHYS\\xa01166. Lab for PHYS 1165. (1 Hour)\\nAccompanies PHYS\\xa01165. Covers topics from the course through various experiments.'),\n",
       " Document(id='ac21bd40-3bab-4a11-8933-f0cc032cc5dd', metadata={'author': 'CourseLeaf', 'creationdate': '2024-08-07T11:36:54-04:00', 'creator': 'Adobe Acrobat Pro (32-bit) 24.2.20965', 'moddate': '2025-02-11T21:18:58-05:00', 'page': 385.0, 'page_label': '386', 'producer': 'Adobe Acrobat Pro (32-bit) 24.2.20965', 'source': '..\\\\Data\\\\Northeastern University 2024-2025 Course Descriptions.pdf', 'title': '', 'total_pages': 939.0}, page_content='2024-2025 Northeastern University Course Descriptions 385\\nEAI\\xa06120. AI Communication and Visualization. (3 Hours)\\nOffers an overview of key informational design concepts, emphasizing the relationship between information and audience in the context of\\ncommunicating complex quantitative information. Encompasses three main context areas: exploratory data visualization, dashboard and scorecard'),\n",
       " Document(id='970876aa-9be0-47df-9328-4625723a069e', metadata={'author': 'CourseLeaf', 'creationdate': '2024-08-07T11:36:54-04:00', 'creator': 'Adobe Acrobat Pro (32-bit) 24.2.20965', 'moddate': '2025-02-11T21:18:58-05:00', 'page': 764.0, 'page_label': '765', 'producer': 'Adobe Acrobat Pro (32-bit) 24.2.20965', 'source': '..\\\\Data\\\\Northeastern University 2024-2025 Course Descriptions.pdf', 'title': '', 'total_pages': 939.0}, page_content='landscape of AI applications across domains and sectors to realize the promise of AI while promoting and protecting values, as well as instruction in\\nthe tools necessary to responsibly engage with AI.\\nPHIL\\xa06962. Elective. (1-4 Hours)\\nOffers elective credit for courses taken at other academic institutions. May be repeated without limit.\\nPhilosophy - CPS (PHL)\\nCourses\\nPHL\\xa01100. Social and Political Philosophy. (3 Hours)'),\n",
       " Document(id='33e454d5-fe78-48fd-b12f-a5faeab95ccb', metadata={'author': 'CourseLeaf', 'creationdate': '2024-08-07T11:36:54-04:00', 'creator': 'Adobe Acrobat Pro (32-bit) 24.2.20965', 'moddate': '2025-02-11T21:18:58-05:00', 'page': 192.0, 'page_label': '193', 'producer': 'Adobe Acrobat Pro (32-bit) 24.2.20965', 'source': '..\\\\Data\\\\Northeastern University 2024-2025 Course Descriptions.pdf', 'title': '', 'total_pages': 939.0}, page_content='Prerequisite(s): CS\\xa01800 with a minimum grade of D- ; CS\\xa02500 with a minimum grade of D-\\nAttribute(s): NUpath Analyzing/Using Data, NUpath Formal/Quant Reasoning\\nCS\\xa02963. Topics. (1,2 Hours)\\nOffers undergraduate students an opportunity to learn about timely issues, develop new skills, or explore areas of broad interest in an immersive,\\nshort-course format. Content and instructors vary by offering. May be repeated three times.')]"
      ]
     },
     "execution_count": 96,
     "metadata": {},
     "output_type": "execute_result"
    }
   ],
   "execution_count": 96
  },
  {
   "metadata": {
    "ExecuteTime": {
     "end_time": "2025-03-04T18:54:19.687251Z",
     "start_time": "2025-03-04T18:54:19.682227Z"
    }
   },
   "cell_type": "code",
   "source": [
    "def clean_and_process_input(user_input):\n",
    "    if not user_input.endswith('?'):\n",
    "        user_input += '?'\n",
    "    \n",
    "    return user_input\n",
    "\n",
    "def clean_chatbot_response(response):\n",
    "    cleaned_response = response[\"answer\"].replace(\"Assistant:\", \"\").strip()\n",
    "    return cleaned_response"
   ],
   "id": "66d295f4bca66dec",
   "outputs": [],
   "execution_count": 97
  },
  {
   "metadata": {},
   "cell_type": "code",
   "source": [
    "llm = HuggingFaceEndpoint(\n",
    "    repo_id=\"mistralai/Mistral-7B-Instruct-v0.3\",\n",
    "    task=\"text-generation\",\n",
    "    max_new_tokens=512,\n",
    "    do_sample=False,\n",
    "    repetition_penalty=1.03,\n",
    ")\n",
    "\n",
    "system_prompt = (\n",
    "    \"You are an assistant for question-answering tasks. \"\n",
    "    \"Use the following pieces of retrieved context to answer \"\n",
    "    \"the question. If you don't know the answer, say that you \"\n",
    "    \"don't know. Use three sentences maximum and keep the \"\n",
    "    \"answer concise.\"\n",
    "    \"Do not include any prefixes like \"\n",
    "    \"'Assistant:' or 'Answer:', just the content.\"\n",
    "    \"\\n\\n\"\n",
    "    \"{context}\"\n",
    ")\n",
    "\n",
    "user_prompt=\"{user_input}\"\n",
    "\n",
    "prompt = ChatPromptTemplate.from_messages([\n",
    "    {\"role\": \"system\", \"content\": system_prompt},\n",
    "    {\"role\": \"user\", \"content\": \"{input}\"},\n",
    "])\n",
    "\n",
    "\n",
    "question_answer_chain = create_stuff_documents_chain(llm, prompt)\n",
    "rag_chain = create_retrieval_chain(retriever, question_answer_chain)\n",
    "response = rag_chain.invoke({\"input\": clean_and_process_input(\"What is course number for Foundations of Artificial Intelligence?\")})\n",
    "\n",
    "print(clean_chatbot_response(response))"
   ],
   "id": "427f5f026978e8e7",
   "outputs": [],
   "execution_count": null
  }
 ],
 "metadata": {
  "kernelspec": {
   "display_name": "Python 3",
   "language": "python",
   "name": "python3"
  },
  "language_info": {
   "codemirror_mode": {
    "name": "ipython",
    "version": 2
   },
   "file_extension": ".py",
   "mimetype": "text/x-python",
   "name": "python",
   "nbconvert_exporter": "python",
   "pygments_lexer": "ipython2",
   "version": "2.7.6"
  }
 },
 "nbformat": 4,
 "nbformat_minor": 5
}
